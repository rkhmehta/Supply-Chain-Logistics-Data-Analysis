import pandas as pd

# Read the main CSV file into a pandas DataFrame
file_path = 'merged_data.csv'
df = pd.read_csv(file_path)

# Filter rows where 'Ship Late Day count_y' is greater than 0
filtered_df = df[df['Ship Late Day count_y'] > 0]

# Group by 'Origin Port' and 'Cluster', and calculate the sum of 'Ship Late Day count_y' for each group
sum_late_days_by_port_cluster = df.groupby(['Origin Port', 'Cluster'])['Ship Late Day count_y'].sum()

# Display the result
print('----------Sum Late Days By Port Cluster-------------')
print(sum_late_days_by_port_cluster)

# Read the Excel file into a dictionary with sheet names as keys
file_path1 = 'Supply_chain_logisitcs_problem.xlsx'
excel_data = pd.read_excel(file_path1, sheet_name=None)

# Select the 'FreightRates' sheet from the Excel file
selected_sheet_name = 'FreightRates'
selected_sheet_df = excel_data[selected_sheet_name]

# Filter rows for 'PORT04' with 'V444_0' or 'V444_1' carriers
filtered_df = selected_sheet_df[(selected_sheet_df['orig_port_cd'] == 'PORT04') & (selected_sheet_df['Carrier'].isin(['V444_0', 'V444_1']))]

# Display the filtered DataFrame
print('----------Freight Rates for PORT04-------------')
print(filtered_df)

# Calculate average career charges for each carrier
carrier_group_by = filtered_df.groupby(['Carrier'])['minimum cost'].mean()
print('----------PORT 04 Career Charges-------------')
print(carrier_group_by)

# Group by 'orig_port_cd' and calculate the mean of 'minimum cost'
grouped_by_carrier_df = selected_sheet_df.groupby(['orig_port_cd'])['minimum cost'].mean()

# Filter DataFrame for selected ports ('PORT04', 'PORT05', 'PORT09')
selected_ports = ['PORT04', 'PORT05', 'PORT09']
comparison_df = grouped_by_carrier_df[grouped_by_carrier_df.index.isin(selected_ports)]

# Display the result
print('----------Minimum Cost Average-------------')
print(comparison_df)

# Filter DataFrame for orders with 'Ship ahead day count_y' greater than 0
new_df = df[df['Ship ahead day count_y'] > 0]

# Group by 'Origin Port' and calculate the mean of 'Ship ahead day count_y'
sum_early_days_by_port_cluster = new_df.groupby(['Origin Port'])['Ship ahead day count_y'].mean()
print('----------Ship Ahead Day Count Average-------------')
print(sum_early_days_by_port_cluster)

# Calculate average rate for each 'orig_port_cd'
x_df = selected_sheet_df.groupby(['orig_port_cd'])['rate'].mean()

# Filter DataFrame for selected ports ('PORT04', 'PORT05', 'PORT09')
y_df = x_df[x_df.index.isin(selected_ports)]

# Display the result
print('----------Minimum Rate Average-------------')
print(y_df)