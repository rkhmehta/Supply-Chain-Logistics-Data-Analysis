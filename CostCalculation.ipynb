{
 "cells": [
  {
   "cell_type": "code",
   "execution_count": null,
   "id": "7152584e",
   "metadata": {},
   "outputs": [],
   "source": [
    "import pandas as pd\n",
    "\n",
    "# Read the main CSV file into a pandas DataFrame\n",
    "file_path = 'merged_data.csv'\n",
    "df = pd.read_csv(file_path)\n"
   ]
  },
  {
   "cell_type": "code",
   "execution_count": null,
   "id": "fdb2666a",
   "metadata": {},
   "outputs": [],
   "source": [
    "# Filter rows where 'Ship Late Day count_y' is greater than 0\n",
    "filtered_df = df[df['Ship Late Day count_y'] > 0]\n",
    "\n",
    "# Group by 'Origin Port' and 'Cluster', and calculate the sum of 'Ship Late Day count_y' for each group\n",
    "sum_late_days_by_port_cluster = df.groupby(['Origin Port', 'Cluster'])['Ship Late Day count_y'].sum()\n",
    "\n",
    "# Display the result\n",
    "print('----------Sum Late Days By Port Cluster-------------')\n",
    "print(sum_late_days_by_port_cluster)\n",
    "\n",
    "# Read the Excel file into a dictionary with sheet names as keys\n",
    "file_path1 = 'Supply_chain_logisitcs_problem.xlsx'\n",
    "excel_data = pd.read_excel(file_path1, sheet_name=None)\n",
    "\n",
    "# Select the 'FreightRates' sheet from the Excel file\n",
    "selected_sheet_name = 'FreightRates'\n",
    "selected_sheet_df = excel_data[selected_sheet_name]\n",
    "\n",
    "# Filter rows for 'PORT04' with 'V444_0' or 'V444_1' carriers\n",
    "filtered_df = selected_sheet_df[(selected_sheet_df['orig_port_cd'] == 'PORT04') & (selected_sheet_df['Carrier'].isin(['V444_0', 'V444_1']))]\n",
    "\n",
    "# Display the filtered DataFrame\n",
    "print('----------Freight Rates for PORT04-------------')\n",
    "print(filtered_df)\n",
    "\n",
    "# Calculate average career charges for each carrier\n",
    "carrier_group_by = filtered_df.groupby(['Carrier'])['minimum cost'].mean()\n",
    "print('----------PORT 04 Career Charges-------------')\n",
    "print(carrier_group_by)\n",
    "\n",
    "# Group by 'orig_port_cd' and calculate the mean of 'minimum cost'\n",
    "grouped_by_carrier_df = selected_sheet_df.groupby(['orig_port_cd'])['minimum cost'].mean()\n",
    "\n",
    "# Filter DataFrame for selected ports ('PORT04', 'PORT05', 'PORT09')\n",
    "selected_ports = ['PORT04', 'PORT05', 'PORT09']\n",
    "comparison_df = grouped_by_carrier_df[grouped_by_carrier_df.index.isin(selected_ports)]\n",
    "\n",
    "# Display the result\n",
    "print('----------Minimum Cost Average-------------')\n",
    "print(comparison_df)\n",
    "\n",
    "# Filter DataFrame for orders with 'Ship ahead day count_y' greater than 0\n",
    "new_df = df[df['Ship ahead day count_y'] > 0]\n",
    "\n",
    "# Group by 'Origin Port' and calculate the mean of 'Ship ahead day count_y'\n",
    "sum_early_days_by_port_cluster = new_df.groupby(['Origin Port'])['Ship ahead day count_y'].mean()\n",
    "print('----------Ship Ahead Day Count Average-------------')\n",
    "print(sum_early_days_by_port_cluster)\n",
    "\n",
    "# Calculate average rate for each 'orig_port_cd'\n",
    "x_df = selected_sheet_df.groupby(['orig_port_cd'])['rate'].mean()\n",
    "\n",
    "# Filter DataFrame for selected ports ('PORT04', 'PORT05', 'PORT09')\n",
    "y_df = x_df[x_df.index.isin(selected_ports)]\n",
    "\n",
    "# Display the result\n",
    "print('----------Minimum Rate Average-------------')\n",
    "print(y_df)"
   ]
  }
 ],
 "metadata": {
  "kernelspec": {
   "display_name": "Python 3 (ipykernel)",
   "language": "python",
   "name": "python3"
  },
  "language_info": {
   "codemirror_mode": {
    "name": "ipython",
    "version": 3
   },
   "file_extension": ".py",
   "mimetype": "text/x-python",
   "name": "python",
   "nbconvert_exporter": "python",
   "pygments_lexer": "ipython3",
   "version": "3.11.4"
  }
 },
 "nbformat": 4,
 "nbformat_minor": 5
}
